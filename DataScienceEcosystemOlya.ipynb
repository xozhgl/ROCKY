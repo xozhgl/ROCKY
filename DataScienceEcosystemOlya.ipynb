{
 "cells": [
  {
   "cell_type": "markdown",
   "id": "cf0c1656",
   "metadata": {},
   "source": [
    "<h1>Data Science tools and Ecosystem</h1>"
   ]
  },
  {
   "cell_type": "markdown",
   "id": "eb8fc8a4",
   "metadata": {},
   "source": [
    "### In this notebook, Data Science Tools and Ecosystem are summarized."
   ]
  },
  {
   "cell_type": "markdown",
   "id": "092db7b3",
   "metadata": {},
   "source": [
    "<h5> Some of the popular languages that Data Scientists use are: </h5>"
   ]
  },
  {
   "cell_type": "markdown",
   "id": "cbc33f1f",
   "metadata": {},
   "source": [
    "1. Python\n",
    "2. HTL\n",
    "3. R\n",
    "4. Julia"
   ]
  },
  {
   "cell_type": "markdown",
   "id": "d819d971",
   "metadata": {},
   "source": [
    "<h5><b> Objectives: </b></h5>\n",
    "\n",
    "- List some of the most popular Data Science languages\n",
    "- List some of the commonly used libraries used by Data Scientists \n",
    "- List some Data Science tools"
   ]
  },
  {
   "cell_type": "markdown",
   "id": "0977bf33",
   "metadata": {},
   "source": [
    "<h5> Some of the commonly used libraries used by Data Scientists include: </h5>"
   ]
  },
  {
   "cell_type": "markdown",
   "id": "f52da203",
   "metadata": {},
   "source": [
    "1. Pandas\n",
    "2. NumPy\n",
    "3. Matplotlib"
   ]
  },
  {
   "cell_type": "markdown",
   "id": "bb0eebb5",
   "metadata": {},
   "source": [
    "Data Science Tools |\n",
    "----------\n",
    "Apache Airflow \n",
    "Git \n",
    "Hadoop "
   ]
  },
  {
   "cell_type": "markdown",
   "id": "3f2930dd",
   "metadata": {},
   "source": [
    "<h3> Below are a few examples of evaluating arithmetic expressions in Python </h3>"
   ]
  },
  {
   "cell_type": "code",
   "execution_count": 3,
   "id": "4a798f91",
   "metadata": {},
   "outputs": [
    {
     "data": {
      "text/plain": [
       "17"
      ]
     },
     "execution_count": 3,
     "metadata": {},
     "output_type": "execute_result"
    }
   ],
   "source": [
    "# This a simple arithmetic expression to mutiply then add integers\n",
    "\n",
    "(3*4)+5"
   ]
  },
  {
   "cell_type": "code",
   "execution_count": 8,
   "id": "db94c73a",
   "metadata": {},
   "outputs": [
    {
     "name": "stdout",
     "output_type": "stream",
     "text": [
      "20:20\n"
     ]
    }
   ],
   "source": [
    "# This will convert 200 minutes to hours by diving by 60\n",
    "\n",
    "total_minutes = 200\n",
    "\n",
    "# Get hours with floor division\n",
    "hours = total_minutes % 60\n",
    "\n",
    "# Get additional minutes with modulus\n",
    "minutes = total_minutes % 60\n",
    "\n",
    "# Create time as a string\n",
    "time = \"{}:{}\".format(hours, minutes)\n",
    "\n",
    "print(time)"
   ]
  },
  {
   "cell_type": "markdown",
   "id": "de9c7716",
   "metadata": {},
   "source": [
    "<h2> Author </h2>\n",
    "Olya"
   ]
  },
  {
   "cell_type": "code",
   "execution_count": null,
   "id": "4f624a6b",
   "metadata": {},
   "outputs": [],
   "source": []
  }
 ],
 "metadata": {
  "kernelspec": {
   "display_name": "Python 3 (ipykernel)",
   "language": "python",
   "name": "python3"
  },
  "language_info": {
   "codemirror_mode": {
    "name": "ipython",
    "version": 3
   },
   "file_extension": ".py",
   "mimetype": "text/x-python",
   "name": "python",
   "nbconvert_exporter": "python",
   "pygments_lexer": "ipython3",
   "version": "3.10.9"
  }
 },
 "nbformat": 4,
 "nbformat_minor": 5
}
